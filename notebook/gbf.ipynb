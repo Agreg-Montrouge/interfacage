{
 "cells": [
  {
   "cell_type": "code",
   "execution_count": null,
   "id": "52df9633",
   "metadata": {},
   "outputs": [],
   "source": [
    "%matplotlib inline\n",
    "import matplotlib.pyplot as plt\n",
    "\n",
    "from tpmontrouge.instrument import Scope, GBF,get_all_connected_devices, get_first_device\n",
    "\n",
    "# For simulation\n",
    "# import os\n",
    "# os.environ['SIMUMONTROUGE'] = 'True'"
   ]
  },
  {
   "cell_type": "markdown",
   "id": "24715455",
   "metadata": {},
   "source": [
    "# Connection to the GBF\n",
    "* If a single gbf is connected use ``get_first_device``\n",
    "* Otherwise ``get_all_connected_devices``\n",
    "\n",
    "You need to call the ``get_instrument`` method to accutally get the interface"
   ]
  },
  {
   "cell_type": "code",
   "execution_count": null,
   "id": "ea967b96",
   "metadata": {},
   "outputs": [],
   "source": [
    "gbf = get_first_device('GBF').get_instrument()"
   ]
  },
  {
   "cell_type": "code",
   "execution_count": null,
   "id": "9d421813",
   "metadata": {},
   "outputs": [],
   "source": [
    "gbf.frequency = 10E3\n",
    "print(gbf.frequency)"
   ]
  },
  {
   "cell_type": "markdown",
   "id": "05280478",
   "metadata": {},
   "source": [
    "The following property are defined : \n",
    "\n",
    "* ``amplitude``\n",
    "* ``frequency``\n",
    "* ``offset``\n",
    "* ``function`` (Sinusoid, Square, Triangle)\n"
   ]
  }
 ],
 "metadata": {
  "kernelspec": {
   "display_name": "Python 3",
   "language": "python",
   "name": "python3"
  },
  "language_info": {
   "codemirror_mode": {
    "name": "ipython",
    "version": 3
   },
   "file_extension": ".py",
   "mimetype": "text/x-python",
   "name": "python",
   "nbconvert_exporter": "python",
   "pygments_lexer": "ipython3",
   "version": "3.8.8"
  }
 },
 "nbformat": 4,
 "nbformat_minor": 5
}
