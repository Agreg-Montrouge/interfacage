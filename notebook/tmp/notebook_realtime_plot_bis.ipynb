{
 "cells": [
  {
   "cell_type": "code",
   "execution_count": null,
   "metadata": {},
   "outputs": [],
   "source": [
    "%matplotlib notebook\n",
    "\n",
    "from tpmontrouge.instrument.analog_input.test.simu_ai import AnalogInputThreadSimulation\n",
    "#from tpmontrouge.instrument.daqmx.analog_input import DAQmxAnalogInput\n",
    "from time import time\n",
    "\n",
    "import numpy as np\n",
    "import matplotlib.pyplot as plt\n",
    "plt.ion()\n",
    "\n",
    "\n",
    "sample_rate = 1000\n",
    "duration = 5\n",
    "\n",
    "block_size = sample_rate//5\n",
    "N_block = 5*duration\n",
    "\n",
    "fig = plt.figure()\n",
    "ax = fig.subplots(1,1)\n",
    "\n",
    "fig.show()\n",
    "fig.canvas.draw()\n",
    "\n",
    "task = AnalogInputThreadSimulation('AI')\n",
    "#task = DAQmxAnalogInput('/dev1')\n",
    "task.start(['1', '2'], sample_rate, block_size, N_block)\n",
    "\n",
    "all_data = np.array([])\n",
    "for _ in range(N_block):\n",
    "    data = task.get_one_block()\n",
    "    all_data = np.concatenate([all_data, data['1']])\n",
    "    ax.clear()\n",
    "    ax.plot(all_data)\n",
    "    fig.canvas.draw()\n",
    "    \n",
    "task.stop()"
   ]
  },
  {
   "cell_type": "code",
   "execution_count": null,
   "metadata": {},
   "outputs": [],
   "source": []
  }
 ],
 "metadata": {
  "kernelspec": {
   "display_name": "Python 3",
   "language": "python",
   "name": "python3"
  },
  "language_info": {
   "codemirror_mode": {
    "name": "ipython",
    "version": 3
   },
   "file_extension": ".py",
   "mimetype": "text/x-python",
   "name": "python",
   "nbconvert_exporter": "python",
   "pygments_lexer": "ipython3",
   "version": "3.8.8"
  }
 },
 "nbformat": 4,
 "nbformat_minor": 2
}
