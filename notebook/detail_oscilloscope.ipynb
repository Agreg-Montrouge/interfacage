{
 "cells": [
  {
   "cell_type": "markdown",
   "metadata": {},
   "source": [
    "# Exemple détaillé de l'utilisation de l'oscilloscope\n"
   ]
  },
  {
   "cell_type": "code",
   "execution_count": 11,
   "metadata": {},
   "outputs": [],
   "source": [
    "from tpmontrouge.instrument import Scope, get_all_connected_devices, get_first_device\n",
    "from tpmontrouge.instrument.scope.test.simu_scope import ScopeSimulation\n"
   ]
  },
  {
   "cell_type": "code",
   "execution_count": 12,
   "metadata": {},
   "outputs": [],
   "source": [
    "#scope = get_first_device().get_instrument()\n",
    "scope = Scope(root=ScopeSimulation())\n"
   ]
  },
  {
   "cell_type": "markdown",
   "metadata": {},
   "source": [
    "### Propriétés des channels"
   ]
  },
  {
   "cell_type": "code",
   "execution_count": 20,
   "metadata": {},
   "outputs": [
    {
     "name": "stdout",
     "output_type": "stream",
     "text": [
      "    State : True\n",
      "    Impedance : Max\n",
      "    Coupling : AC\n",
      "    Scale : 0.001\n"
     ]
    }
   ],
   "source": [
    "print('    State :', scope.channel[1].state)\n",
    "# On peut utiliser scope.channel[1].is_active()\n",
    "print('    Impedance :', scope.channel[1].impedance)\n",
    "print('    Coupling :', scope.channel[1].coupling)\n",
    "print('    Scale :', scope.channel[1].scale)"
   ]
  },
  {
   "cell_type": "code",
   "execution_count": 21,
   "metadata": {},
   "outputs": [],
   "source": [
    "scope.channel[1].impedance = \"Max\" # OneMegOhm / 1E6 / FiftyOhm / 50 / Max / float('inf')\n",
    "scope.channel[1].coupling = 'AC' # AC / DC / GND\n",
    "scope.channel[1].scale = 0.001"
   ]
  },
  {
   "cell_type": "markdown",
   "metadata": {},
   "source": [
    "Rajouter un type de connection : simulation\n"
   ]
  },
  {
   "cell_type": "code",
   "execution_count": 9,
   "metadata": {},
   "outputs": [
    {
     "data": {
      "text/plain": [
       "Waveform([ 0.          0.00999983  0.01999867 ... -0.53200348 -0.5235096\n",
       " -0.51496337], t0=-0.5, dt=0.0001)"
      ]
     },
     "execution_count": 9,
     "metadata": {},
     "output_type": "execute_result"
    }
   ],
   "source": [
    "wfm = scope.channel[1].get_waveform()\n",
    "wfm."
   ]
  },
  {
   "cell_type": "code",
   "execution_count": 10,
   "metadata": {},
   "outputs": [
    {
     "data": {
      "text/plain": [
       "array([-0.5   , -0.4999, -0.4998, ...,  0.4997,  0.4998,  0.4999])"
      ]
     },
     "execution_count": 10,
     "metadata": {},
     "output_type": "execute_result"
    }
   ],
   "source": [
    "wfm.x_data"
   ]
  },
  {
   "cell_type": "code",
   "execution_count": null,
   "metadata": {
    "collapsed": true
   },
   "outputs": [],
   "source": []
  }
 ],
 "metadata": {
  "kernelspec": {
   "display_name": "Python 3",
   "language": "python",
   "name": "python3"
  },
  "language_info": {
   "codemirror_mode": {
    "name": "ipython",
    "version": 3
   },
   "file_extension": ".py",
   "mimetype": "text/x-python",
   "name": "python",
   "nbconvert_exporter": "python",
   "pygments_lexer": "ipython3",
   "version": "3.6.8"
  }
 },
 "nbformat": 4,
 "nbformat_minor": 2
}
